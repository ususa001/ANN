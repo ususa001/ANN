{
  "nbformat": 4,
  "nbformat_minor": 0,
  "metadata": {
    "colab": {
      "provenance": [],
      "authorship_tag": "ABX9TyMQylJIzXxCFRjefSZV6xDR",
      "include_colab_link": true
    },
    "kernelspec": {
      "name": "python3",
      "display_name": "Python 3"
    },
    "language_info": {
      "name": "python"
    }
  },
  "cells": [
    {
      "cell_type": "markdown",
      "metadata": {
        "id": "view-in-github",
        "colab_type": "text"
      },
      "source": [
        "<a href=\"https://colab.research.google.com/github/ususa001/ANN/blob/main/ANN_LAB1.ipynb\" target=\"_parent\"><img src=\"https://colab.research.google.com/assets/colab-badge.svg\" alt=\"Open In Colab\"/></a>"
      ]
    },
    {
      "cell_type": "code",
      "execution_count": 1,
      "metadata": {
        "colab": {
          "base_uri": "https://localhost:8080/"
        },
        "id": "AAUCrGyr5j2m",
        "outputId": "9993af10-71d5-4fb7-ffa3-80eb491f6597"
      },
      "outputs": [
        {
          "output_type": "stream",
          "name": "stdout",
          "text": [
            "Sum:  15\n",
            "Difference:  5\n",
            "Product:  50\n",
            "division:  2.0\n"
          ]
        }
      ],
      "source": [
        "a=10\n",
        "b=5\n",
        "sum=a+b\n",
        "difference=a-b\n",
        "product=a*b\n",
        "division=a/b\n",
        "\n",
        "print(\"Sum: \",sum)\n",
        "print(\"Difference: \",difference)\n",
        "print(\"Product: \",product)\n",
        "print(\"division: \",division)\n",
        "\n"
      ]
    }
  ]
}