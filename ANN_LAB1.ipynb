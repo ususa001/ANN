{
  "nbformat": 4,
  "nbformat_minor": 0,
  "metadata": {
    "colab": {
      "provenance": [],
      "authorship_tag": "ABX9TyOs4h5SIhqtQkFhiyqxaVot",
      "include_colab_link": true
    },
    "kernelspec": {
      "name": "python3",
      "display_name": "Python 3"
    },
    "language_info": {
      "name": "python"
    }
  },
  "cells": [
    {
      "cell_type": "markdown",
      "metadata": {
        "id": "view-in-github",
        "colab_type": "text"
      },
      "source": [
        "<a href=\"https://colab.research.google.com/github/ususa001/ANN/blob/main/ANN_LAB1.ipynb\" target=\"_parent\"><img src=\"https://colab.research.google.com/assets/colab-badge.svg\" alt=\"Open In Colab\"/></a>"
      ]
    },
    {
      "cell_type": "code",
      "execution_count": 2,
      "metadata": {
        "colab": {
          "base_uri": "https://localhost:8080/"
        },
        "id": "AAUCrGyr5j2m",
        "outputId": "651f63c0-ecd1-44a3-fdc1-7e19564b5c14"
      },
      "outputs": [
        {
          "output_type": "stream",
          "name": "stdout",
          "text": [
            "Sum:  15\n",
            "Difference:  5\n",
            "Product:  50\n",
            "Division:  2.0\n"
          ]
        }
      ],
      "source": [
        "a=10\n",
        "b=5\n",
        "sum=a+b\n",
        "difference=a-b\n",
        "product=a*b\n",
        "division=a/b\n",
        "\n",
        "print(\"Sum: \",sum)\n",
        "print(\"Difference: \",difference)\n",
        "print(\"Product: \",product)\n",
        "print(\"Division: \",division)\n",
        "\n"
      ]
    }
  ]
}